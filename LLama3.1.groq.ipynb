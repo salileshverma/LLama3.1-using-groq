{
 "cells": [
  {
   "cell_type": "code",
   "execution_count": 1,
   "id": "0b487731-2b55-4758-ba22-5505b3851fb8",
   "metadata": {},
   "outputs": [
    {
     "name": "stdout",
     "output_type": "stream",
     "text": [
      "Collecting groq==0.11.0\n",
      "  Downloading groq-0.11.0-py3-none-any.whl.metadata (13 kB)\n",
      "Requirement already satisfied: anyio<5,>=3.5.0 in /opt/anaconda3/lib/python3.11/site-packages (from groq==0.11.0) (4.2.0)\n",
      "Requirement already satisfied: distro<2,>=1.7.0 in /opt/anaconda3/lib/python3.11/site-packages (from groq==0.11.0) (1.8.0)\n",
      "Requirement already satisfied: httpx<1,>=0.23.0 in /opt/anaconda3/lib/python3.11/site-packages (from groq==0.11.0) (0.27.0)\n",
      "Requirement already satisfied: pydantic<3,>=1.9.0 in /opt/anaconda3/lib/python3.11/site-packages (from groq==0.11.0) (1.10.12)\n",
      "Requirement already satisfied: sniffio in /opt/anaconda3/lib/python3.11/site-packages (from groq==0.11.0) (1.3.0)\n",
      "Requirement already satisfied: typing-extensions<5,>=4.7 in /opt/anaconda3/lib/python3.11/site-packages (from groq==0.11.0) (4.9.0)\n",
      "Requirement already satisfied: idna>=2.8 in /opt/anaconda3/lib/python3.11/site-packages (from anyio<5,>=3.5.0->groq==0.11.0) (3.4)\n",
      "Requirement already satisfied: certifi in /opt/anaconda3/lib/python3.11/site-packages (from httpx<1,>=0.23.0->groq==0.11.0) (2024.6.2)\n",
      "Requirement already satisfied: httpcore==1.* in /opt/anaconda3/lib/python3.11/site-packages (from httpx<1,>=0.23.0->groq==0.11.0) (1.0.5)\n",
      "Requirement already satisfied: h11<0.15,>=0.13 in /opt/anaconda3/lib/python3.11/site-packages (from httpcore==1.*->httpx<1,>=0.23.0->groq==0.11.0) (0.14.0)\n",
      "Downloading groq-0.11.0-py3-none-any.whl (106 kB)\n",
      "\u001b[2K   \u001b[90m━━━━━━━━━━━━━━━━━━━━━━━━━━━━━━━━━━━━━━━━\u001b[0m \u001b[32m106.5/106.5 kB\u001b[0m \u001b[31m4.8 MB/s\u001b[0m eta \u001b[36m0:00:00\u001b[0m\n",
      "\u001b[?25hInstalling collected packages: groq\n",
      "Successfully installed groq-0.11.0\n",
      "Note: you may need to restart the kernel to use updated packages.\n"
     ]
    }
   ],
   "source": [
    "pip install groq==0.11.0"
   ]
  },
  {
   "cell_type": "code",
   "execution_count": 2,
   "id": "319ebd34-1125-4d12-b3ac-b7fb7efbffe8",
   "metadata": {},
   "outputs": [],
   "source": [
    "import os"
   ]
  },
  {
   "cell_type": "code",
   "execution_count": 3,
   "id": "8f678c0d-fcf6-4e3e-9f2f-9735c80f9f9b",
   "metadata": {},
   "outputs": [],
   "source": [
    "os.environ[\"GROQ_API_KEY\"]=\"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\""
   ]
  },
  {
   "cell_type": "code",
   "execution_count": 4,
   "id": "87bd115e-9b49-44f4-a5c1-267e08775850",
   "metadata": {},
   "outputs": [],
   "source": [
    "from groq import Groq"
   ]
  },
  {
   "cell_type": "code",
   "execution_count": 5,
   "id": "fee0f79a-421d-4d6a-84a8-8a34917ed489",
   "metadata": {},
   "outputs": [],
   "source": [
    "client=Groq()"
   ]
  },
  {
   "cell_type": "code",
   "execution_count": 6,
   "id": "744f9643-48b7-4f5e-aa44-ffab6e999588",
   "metadata": {},
   "outputs": [],
   "source": [
    "response=client.chat.completions.create(\n",
    "    messages=[\n",
    "\n",
    "        {\"role\":\"user\",\"content\":\"Give me the first 20 terms of fibonacci series\"}\n",
    "    ],\n",
    "    model=\"llama-3.1-8b-instant\"\n",
    ")\n"
   ]
  },
  {
   "cell_type": "code",
   "execution_count": 7,
   "id": "1f3c1960-ca38-489a-b84b-f84ccec044d5",
   "metadata": {},
   "outputs": [
    {
     "data": {
      "text/plain": [
       "ChatCompletion(id='chatcmpl-67772174-7897-45a5-afa4-f3968428c917', choices=[Choice(finish_reason='stop', index=0, logprobs=None, message=ChatCompletionMessage(content='The Fibonacci series is a series where each term is the sum of the two preceding ones. It starts with 0 and 1. \\n\\nHere are the first 20 terms of the Fibonacci series:\\n\\n1. 0\\n2. 1\\n3. 1 (0 + 1)\\n4. 2 (1 + 1)\\n5. 3 (1 + 2)\\n6. 5 (2 + 3)\\n7. 8 (3 + 5)\\n8. 13 (5 + 8)\\n9. 21 (8 + 13)\\n10. 34 (13 + 21)\\n11. 55 (21 + 34)\\n12. 89 (34 + 55)\\n13. 144 (55 + 89)\\n14. 233 (89 + 144)\\n15. 377 (144 + 233)\\n16. 610 (233 + 377)\\n17. 985 (377 + 610)\\n18. 1597 (610 + 987)\\n19. 2584 (985 + 1597)\\n20. 4181 (1597 + 2584)', role='assistant', function_call=None, tool_calls=None))], created=1725884706, model='llama-3.1-8b-instant', object='chat.completion', system_fingerprint='fp_f66ccb39ec', usage=CompletionUsage(completion_tokens=237, prompt_tokens=45, total_tokens=282, completion_time=0.316, prompt_time=0.008963973, queue_time=0.004295347, total_time=0.324963973), x_groq={'id': 'req_01j7bbxbxsf88rvkrafp1v4c7y'})"
      ]
     },
     "execution_count": 7,
     "metadata": {},
     "output_type": "execute_result"
    }
   ],
   "source": [
    "response"
   ]
  },
  {
   "cell_type": "code",
   "execution_count": 9,
   "id": "f465b42c-2026-430b-804c-8edf5c023a4e",
   "metadata": {},
   "outputs": [
    {
     "name": "stdout",
     "output_type": "stream",
     "text": [
      "The Fibonacci series is a series where each term is the sum of the two preceding ones. It starts with 0 and 1. \n",
      "\n",
      "Here are the first 20 terms of the Fibonacci series:\n",
      "\n",
      "1. 0\n",
      "2. 1\n",
      "3. 1 (0 + 1)\n",
      "4. 2 (1 + 1)\n",
      "5. 3 (1 + 2)\n",
      "6. 5 (2 + 3)\n",
      "7. 8 (3 + 5)\n",
      "8. 13 (5 + 8)\n",
      "9. 21 (8 + 13)\n",
      "10. 34 (13 + 21)\n",
      "11. 55 (21 + 34)\n",
      "12. 89 (34 + 55)\n",
      "13. 144 (55 + 89)\n",
      "14. 233 (89 + 144)\n",
      "15. 377 (144 + 233)\n",
      "16. 610 (233 + 377)\n",
      "17. 985 (377 + 610)\n",
      "18. 1597 (610 + 987)\n",
      "19. 2584 (985 + 1597)\n",
      "20. 4181 (1597 + 2584)\n"
     ]
    }
   ],
   "source": [
    "output=response.choices[0].message.content\n",
    "print(output)"
   ]
  },
  {
   "cell_type": "code",
   "execution_count": null,
   "id": "4c06fb04-d416-48a6-8dcf-514a08dfbaaf",
   "metadata": {},
   "outputs": [],
   "source": []
  }
 ],
 "metadata": {
  "kernelspec": {
   "display_name": "Python 3 (ipykernel)",
   "language": "python",
   "name": "python3"
  },
  "language_info": {
   "codemirror_mode": {
    "name": "ipython",
    "version": 3
   },
   "file_extension": ".py",
   "mimetype": "text/x-python",
   "name": "python",
   "nbconvert_exporter": "python",
   "pygments_lexer": "ipython3",
   "version": "3.11.7"
  }
 },
 "nbformat": 4,
 "nbformat_minor": 5
}
